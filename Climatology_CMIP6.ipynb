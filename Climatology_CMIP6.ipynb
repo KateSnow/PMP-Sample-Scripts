{
 "cells": [
  {
   "cell_type": "markdown",
   "metadata": {},
   "source": [
    "# CMIP6 Climatology Example"
   ]
  },
  {
   "cell_type": "markdown",
   "metadata": {},
   "source": [
    "The is a simple python script to calculate a climatology for some example CMIP6 data"
   ]
  },
  {
   "cell_type": "markdown",
   "metadata": {},
   "source": [
    "## Setup the Python Environment"
   ]
  },
  {
   "cell_type": "code",
   "execution_count": null,
   "metadata": {},
   "outputs": [],
   "source": [
    "! module use /g/data3/hh5/public/modules/\n",
    "! module load conda/analysis3"
   ]
  },
  {
   "cell_type": "markdown",
   "metadata": {},
   "source": [
    "## Import python libraries"
   ]
  },
  {
   "cell_type": "code",
   "execution_count": null,
   "metadata": {},
   "outputs": [],
   "source": [
    "import xarray\n",
    "import matplotlib.pyplot as plt\n",
    "import numpy as np\n",
    "import os\n",
    "import datetime\n",
    "%matplotlib inline"
   ]
  },
  {
   "cell_type": "markdown",
   "metadata": {},
   "source": [
    "## Define the files for calculating the climatology\n",
    "The below options provide a list of the models, variables, experiments and ensembles that you want to calculate climatological fields for to use with the PMP analysis. The start and end year of the climatology that is calculated is also defined. Note that it is expected that the model output used here is monthly mean data."
   ]
  },
  {
   "cell_type": "code",
   "execution_count": null,
   "metadata": {},
   "outputs": [],
   "source": [
    "#In this simple script assume the institute_id, source_id and enesemble are related\n",
    "institute_id = ['IPSL','CNRM-CERFACS']\n",
    "source_id = ['IPSL-CM6A-LR','CNRM-CM6-1']\n",
    "member_id = ['r1i1p1f1','r1i1p1f2']\n",
    "\n",
    "experiment_id =['abrupt-4xCO2']\n",
    "\n",
    "#The table_id is related to the variable type\n",
    "table_id = ['Amon','SImon']\n",
    "variable_id = ['tas','siconc']\n",
    "grid_label = ['gr','gn']\n",
    "\n",
    "year_start = 1850                     #what is the start year for the climatology to be calculated\n",
    "year_end = 1999                       #what is the end year for the climatology to be calculated"
   ]
  },
  {
   "cell_type": "markdown",
   "metadata": {},
   "source": [
    "## Loop through the desired options to calculate each climatology file\n",
    "Here we loop through each of the options specified above and individually calcaulte the climatologies over the specified time range, saving the climatology file as a netCDF output to the current working directory. These files are necessary to then proceed to use the PMP tool as it is designed in version v1.1\n"
   ]
  },
  {
   "cell_type": "code",
   "execution_count": null,
   "metadata": {
    "scrolled": true
   },
   "outputs": [],
   "source": [
    "for i in range(len(source_id)):\n",
    "    for j in range(len(experiment_id)):\n",
    "        for k in range(len(variable_id)):\n",
    "            #find the file path for the latest version of data\n",
    "            file_system = '/g/data/oi10/replicas/'\n",
    "            CMIP_dir = 'CMIP6/CMIP/%s/%s/%s/%s/%s/%s/%s'%(institute_id[i],source_id[i],experiment_id[j],member_id[i],\\\n",
    "                                                          table_id[k],variable_id[k],grid_label[k])\n",
    "            latest_version = os.listdir('%s/%s'%(file_system,CMIP_dir))[-1]\n",
    "                               \n",
    "            path = '%s/%s/%s/*.nc'%(file_system,CMIP_dir,latest_version)\n",
    "            print(path)\n",
    "                   \n",
    "            #open the dataset\n",
    "            f = xarray.open_mfdataset(path,decode_times=False)\n",
    "            f2 = xarray.decode_cf(f)\n",
    "             \n",
    "            #select the data within the time range chosen\n",
    "            date_start = datetime.datetime(year_start, 1, 1, 0, 0)\n",
    "            date_end = datetime.datetime(year_end + 1, 1, 1, 0, 0)\n",
    "                \n",
    "            #Take average in time over selected years to calculate the climatology\n",
    "            climatology=f2.sel(time=slice(date_start, date_end)).groupby('time.month').mean(['time'])\n",
    "\n",
    "            #save to a netcdf file\n",
    "            climatology.to_netcdf('clim_CMIP6_%s_%s_%s_%i_%i.nc'%(source_id[i],experiment_id[j],variable_id[k],\\\n",
    "                                                                  year_start,year_end))\n",
    "                \n",
    "                "
   ]
  },
  {
   "cell_type": "code",
   "execution_count": null,
   "metadata": {},
   "outputs": [],
   "source": []
  }
 ],
 "metadata": {
  "kernelspec": {
   "display_name": "Python [default]",
   "language": "python",
   "name": "python3"
  },
  "language_info": {
   "codemirror_mode": {
    "name": "ipython",
    "version": 3
   },
   "file_extension": ".py",
   "mimetype": "text/x-python",
   "name": "python",
   "nbconvert_exporter": "python",
   "pygments_lexer": "ipython3",
   "version": "3.6.6"
  }
 },
 "nbformat": 4,
 "nbformat_minor": 2
}
