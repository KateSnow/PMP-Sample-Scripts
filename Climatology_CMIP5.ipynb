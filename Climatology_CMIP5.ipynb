{
 "cells": [
  {
   "cell_type": "markdown",
   "metadata": {},
   "source": [
    "## Setup the Python Environment"
   ]
  },
  {
   "cell_type": "code",
   "execution_count": null,
   "metadata": {},
   "outputs": [],
   "source": [
    "! module use /g/data3/hh5/public/modules/\n",
    "! module load conda/analysis3"
   ]
  },
  {
   "cell_type": "markdown",
   "metadata": {},
   "source": [
    "## Import python libraries"
   ]
  },
  {
   "cell_type": "code",
   "execution_count": null,
   "metadata": {},
   "outputs": [],
   "source": [
    "import xarray\n",
    "import matplotlib.pyplot as plt\n",
    "import numpy as np\n",
    "import os\n",
    "import datetime\n",
    "%matplotlib inline"
   ]
  },
  {
   "cell_type": "markdown",
   "metadata": {},
   "source": [
    "## Define the files for calculating the climatology\n",
    "The below options provide a list of the models, variables, experiments and ensembles that you want to calculate climatological fields for to use with the PMP analysis. The start and end year of the climatology that is calculated is also defined. Note that it is expected that the model output used here is monthly mean data."
   ]
  },
  {
   "cell_type": "code",
   "execution_count": null,
   "metadata": {},
   "outputs": [],
   "source": [
    "models = ['ACCESS1-0', 'ACCESS1-3','IPSL-CM5A-LR','CanESM2','CanAM4','CMCC-CESM','CNRM-CM5','FGOALS-g2','MIROC5','HadCM3','MPI-ESM-LR','MRI-ESM1','GISS-E2-H','CCSM4','NorESM1-M','GFDL-CM2p1']  #which models do you want to include in the analysis\n",
    "variables = ['tas','pr','sos','tos','sic','sit','snd']             #which variables\n",
    "variable_realm = ['atmos','atmos','ocean','ocean','seaIce','seaIce','landIce']   #the realm must match that for the selected variable\n",
    "experiments = ['historical']             #which experiments\n",
    "ensemble = ['r1i1p1']                #which ensemble\n",
    "year_start = 1901                     #what is the start year for the climatology to be calculated\n",
    "year_end = 1950                       #what is the end year for the climatology to be calculated"
   ]
  },
  {
   "cell_type": "markdown",
   "metadata": {},
   "source": [
    "Determine the appropriate institue and realm given the model options."
   ]
  },
  {
   "cell_type": "code",
   "execution_count": null,
   "metadata": {},
   "outputs": [],
   "source": [
    "table_id = {'atmos':'Amon','ocean':'Omon','seaIce':'OImon','land':'Lmon','landIce':'LImon','aerosol':'aero'}\n",
    "institute = {'ACCESS1-0':'CSIRO-BOM','ACCESS1-3':'CSIRO-BOM','CSIRO-Mk3-6-0':'UNSW','CSIRO-Mk3L-1-2':'UNSW','CanAM4':'CCCma',\\\n",
    "             'CanCM4':'CCCma','CanESM2':'CCCma','CMCC-CESM':'CMCC','CMCC-CM':'CMCC','CMCC-CMS':'CMCC','CNRM-CM5':'CNRM-CERFACS',\\\n",
    "             'CNRM-CM5-2':'CNRM-CERFACS','EC-EARTH':'ICHEC','inmcm4':'INM','IPSL-CM5A-LR':'IPSL','IPSL-CM5A-MR':'IPSL','IPSL-CM5B-LR':'IPSL',\\\n",
    "             'FGOALS-g2':'LASG-CESS','FGOALS-s2':'LASG-IAP','MIROC-ESM':'MIROC','MIROC-ESM-CHEM':'MIROC','MIROC4h':'MIROC',\\\n",
    "             'MIROC5':'MIROC','HadCM3':'MOHC','HadGEM2-A':'MOHC','HadGEM2-CC':'MOHC','HadGEM2-ES':'MOHC','MPI-ESM-LR':'MPI-M',\\\n",
    "             'MPI-ESM-MR':'MPI-M','MPI-ESM-P':'MPI-M','MRI-AGCM3-2H':'MRI','MRI-AGCM3-2S':'MRI','MRI-CGCM3':'MRI','MRI-ESM1':'MRI',\\\n",
    "             'GISS-E2-H':'NASA-GISS','GISS-E2-H-CC':'NASA-GISS','GISS-E2-R':'NASA-GISS','GISS-E2-R-CC':'NASA-GISS','GEOS-5':'NASA-GMAO',\\\n",
    "             'CCSM4':'NCAR','NorESM1-M':'NCC','NorESM1-ME':'NCC','HadGEM2-AO':'NIMR-KMA','GFDL-CM2p1':'NOAA-GFDL','GFDL-CM3':'NOAA-GFDL',\\\n",
    "             'GFDL-ESM2G':'NOAA-GFDL','GFDL-ESM2M':'NOAA-GFDL','GFDL-HIRAM-C180':'NOAA-GFDL','GFDL-HIRAM-C360':'NOAA-GFDL',\\\n",
    "             'CFSv2-2011':'NOAA-NCEP'\\\n",
    "            }"
   ]
  },
  {
   "cell_type": "markdown",
   "metadata": {},
   "source": [
    "## Loop through the desired options to calculate each climatology file\n",
    "Here we loop through each of the options specified above and individually calcaulte the climatologies over the specified time range, saving the climatology file as a netCDF output to the current working directory. These files are necessary to then proceed to use the PMP tool as it is designed in version v1.1\n"
   ]
  },
  {
   "cell_type": "code",
   "execution_count": null,
   "metadata": {
    "scrolled": true
   },
   "outputs": [],
   "source": [
    "for i in range(len(models)):\n",
    "    for j in range(len(experiments)):\n",
    "        for k in range(len(variables)):\n",
    "            for l in range(len(ensemble)):\n",
    "                #find the file path\n",
    "                CMIP_dir = '%s/%s/%s/mon/%s/%s/%s'%(institute[models[i]],models[i],experiments[j],\\\n",
    "                                                    variable_realm[k],table_id[variable_realm[k]],ensemble[l])\n",
    "                if 'ACCESS' in models[i] or 'CSIRO' in models[i]:\n",
    "                    out_dir = 'rr3/publications/CMIP5/output1'\n",
    "                    version = 'latest'\n",
    "                else:\n",
    "                    out_dir = 'al33/replicas/CMIP5/combined'\n",
    "                    #list directories with the different versions and determine the latest version\n",
    "                    version = os.listdir('/g/data/%s/%s'%(out_dir,CMIP_dir))[-1]\n",
    "                                                                                                        \n",
    "                path = '/g/data/%s/%s/%s/%s/*.nc'%(out_dir,CMIP_dir,version,variables[k])\n",
    "                print(path)\n",
    "                   \n",
    "                #open the dataset\n",
    "                f = xarray.open_mfdataset(path,decode_times=False)\n",
    "                f2 = xarray.decode_cf(f)\n",
    "             \n",
    "                #select the data within the time range chosen\n",
    "                date_start = datetime.datetime(year_start, 1, 1, 0, 0)\n",
    "                date_end = datetime.datetime(year_end + 1, 1, 1, 0, 0)\n",
    "                \n",
    "                #Take average in time over selected years to calculate the climatology\n",
    "                climatology=f2.sel(time=slice(date_start, date_end)).groupby('time.month').mean(['time'])\n",
    "\n",
    "                #save to a netcdf file\n",
    "                climatology.to_netcdf('clim_CMIP5_%s_%s_%s_%i_%i.nc'%(models[i],experiments[j],variables[k],\\\n",
    "                                                                      year_start,year_end))\n",
    "                \n",
    "                "
   ]
  },
  {
   "cell_type": "code",
   "execution_count": null,
   "metadata": {},
   "outputs": [],
   "source": []
  }
 ],
 "metadata": {
  "kernelspec": {
   "display_name": "Python [default]",
   "language": "python",
   "name": "python3"
  },
  "language_info": {
   "codemirror_mode": {
    "name": "ipython",
    "version": 3
   },
   "file_extension": ".py",
   "mimetype": "text/x-python",
   "name": "python",
   "nbconvert_exporter": "python",
   "pygments_lexer": "ipython3",
   "version": "3.6.6"
  }
 },
 "nbformat": 4,
 "nbformat_minor": 2
}
